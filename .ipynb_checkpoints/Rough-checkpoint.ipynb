{
 "cells": [
  {
   "cell_type": "code",
   "execution_count": null,
   "metadata": {},
   "outputs": [],
   "source": [
    "import numpy as np\n",
    "from scipy.integrate import odeint, simps\n",
    "from scipy.optimize import newton\n",
    "import matplotlib.pyplot as plt\n",
    "\n",
    "def f(u, x, E):\n",
    "    f1, f2 = u[1], (x**2 - 2*E)*u(0)\n",
    "    return [f1, f2]\n",
    "\n",
    "def shoot(E):\n",
    "    sol = odeint(f, u, x, args = (E, ))\n",
    "    return sol[:, 0] [-1]\n",
    "\n",
    "energies = np.arange(0, 6, 0.1)\n",
    "x = np.linspace(-5, -5, 100)\n",
    "u = [0, 0.001]\n",
    "\n",
    "hits = [shoot(E) for E in energies]\n",
    "plt.plot(energies, hits)\n",
    "plt.axhline()\n",
    "plt.show()\n",
    "\n",
    "def psi_normal(En):\n",
    "    sol = odeint(f, u, x, args = (En, ))\n",
    "    psi = sol[:, 0]\n",
    "    N = 1/np.sqrt(simps(psi*psi, x))\n",
    "    return N*psi\n",
    "\n",
    "for n in range(3):\n",
    "    En = newton(shoot, n)\n",
    "    plt.subplot(1, 3, n+1)\n",
    "    plt.plot(x, psi_normal(En), lw = 2)\n",
    "    plt.title('n = {0}'. format(n), size = 18)\n",
    "    plt.axhline(linestyle = '--')\n",
    "\n",
    "plt.show()"
   ]
  },
  {
   "cell_type": "code",
   "execution_count": null,
   "metadata": {},
   "outputs": [],
   "source": []
  }
 ],
 "metadata": {
  "interpreter": {
   "hash": "902c41f0aaeb15204243a7674a5da88942fb0c54ef78768d87b3ddd19fccbe41"
  },
  "kernelspec": {
   "display_name": "Python 3",
   "language": "python",
   "name": "python3"
  },
  "language_info": {
   "codemirror_mode": {
    "name": "ipython",
    "version": 3
   },
   "file_extension": ".py",
   "mimetype": "text/x-python",
   "name": "python",
   "nbconvert_exporter": "python",
   "pygments_lexer": "ipython3",
   "version": "3.9.5"
  }
 },
 "nbformat": 4,
 "nbformat_minor": 2
}
