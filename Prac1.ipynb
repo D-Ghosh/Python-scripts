{
 "cells": [
  {
   "cell_type": "markdown",
   "id": "443c0e4c",
   "metadata": {},
   "source": [
    "# Trapizoidal Rule"
   ]
  },
  {
   "cell_type": "code",
   "execution_count": null,
   "id": "4e99dc17",
   "metadata": {},
   "outputs": [],
   "source": [
    "from scipy.integrate import trapz"
   ]
  }
 ],
 "metadata": {
  "kernelspec": {
   "display_name": "Python 3",
   "language": "python",
   "name": "python3"
  },
  "language_info": {
   "codemirror_mode": {
    "name": "ipython",
    "version": 3
   },
   "file_extension": ".py",
   "mimetype": "text/x-python",
   "name": "python",
   "nbconvert_exporter": "python",
   "pygments_lexer": "ipython3",
   "version": "3.9.5"
  }
 },
 "nbformat": 4,
 "nbformat_minor": 5
}
